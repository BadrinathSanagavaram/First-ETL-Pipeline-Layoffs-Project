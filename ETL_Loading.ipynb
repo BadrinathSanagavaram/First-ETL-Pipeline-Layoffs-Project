{
 "cells": [
  {
   "cell_type": "markdown",
   "id": "9e6cfd81",
   "metadata": {
    "vscode": {
     "languageId": "plaintext"
    }
   },
   "source": [
    "### Creating an ETL Pipeline where in we are taking data which is layoffs.csv dataset and loading it into the MySQL database which is the target database using required libraries and using Python as the programming language"
   ]
  },
  {
   "cell_type": "code",
   "execution_count": null,
   "id": "ea67cbd9",
   "metadata": {
    "vscode": {
     "languageId": "plaintext"
    }
   },
   "outputs": [],
   "source": []
  }
 ],
 "metadata": {
  "language_info": {
   "name": "python"
  }
 },
 "nbformat": 4,
 "nbformat_minor": 5
}
